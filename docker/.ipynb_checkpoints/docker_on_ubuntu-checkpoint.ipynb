{
 "cells": [
  {
   "cell_type": "markdown",
   "id": "db1f2514-1b58-4259-866a-66f2dbaa1d93",
   "metadata": {},
   "source": [
    "### Install docker on ubuntu\n",
    "`curl -fsSL https://get.docker.com | sudo bash\n",
    "\n",
    "\n",
    "`docker --version`\n",
    "\n",
    "# add your account to docker group \n",
    "`sudo usermod -aG docker $USER`\n",
    "\r",
    "`\n",
    "newgrp docke\r",
    "                           \n",
    "The second command allows you to directly use docker commands as a group member of docker group without having to exit the current session\n",
    "``"
   ]
  },
  {
   "cell_type": "code",
   "execution_count": null,
   "id": "5ab6ce47-a7df-4161-94a8-64404d18c9e0",
   "metadata": {},
   "outputs": [],
   "source": []
  }
 ],
 "metadata": {
  "kernelspec": {
   "display_name": "Python 3 (ipykernel)",
   "language": "python",
   "name": "python3"
  },
  "language_info": {
   "codemirror_mode": {
    "name": "ipython",
    "version": 3
   },
   "file_extension": ".py",
   "mimetype": "text/x-python",
   "name": "python",
   "nbconvert_exporter": "python",
   "pygments_lexer": "ipython3",
   "version": "3.11.5"
  }
 },
 "nbformat": 4,
 "nbformat_minor": 5
}
