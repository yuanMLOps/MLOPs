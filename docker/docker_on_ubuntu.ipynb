{
 "cells": [
  {
   "cell_type": "markdown",
   "id": "db1f2514-1b58-4259-866a-66f2dbaa1d93",
   "metadata": {},
   "source": [
    "### Install docker on ubuntu\n",
    "`curl -fsSL https://get.docker.com | sudo bash\n",
    "\n",
    "\n",
    "`docker --version`\n",
    "\n",
    "# add your account to docker group \n",
    "`sudo usermod -aG docker $USER`\n",
    "\r",
    "`\n",
    "newgrp docke\r",
    "                           \n",
    "The second command allows you to directly use docker commands as a group member of docker group without having to exit the current session\n",
    "``"
   ]
  },
  {
   "cell_type": "markdown",
   "id": "e498d78e-fae4-48b7-87bf-45c4799d39e1",
   "metadata": {},
   "source": [
    "### Check networks\n",
    "* show all networks  in docker by                   \n",
    "`docker network ls` to get all docker containers of the existing networks               \n",
    "* then use `docker network inspect container id` to check which services / dockers are contained in the network"
   ]
  },
  {
   "cell_type": "code",
   "execution_count": null,
   "id": "8f94e768-31f0-4358-96b7-7a4c118999a8",
   "metadata": {},
   "outputs": [],
   "source": []
  },
  {
   "cell_type": "code",
   "execution_count": null,
   "id": "6cee8443-d03d-4dc2-8f0b-f64628f724ea",
   "metadata": {},
   "outputs": [],
   "source": []
  }
 ],
 "metadata": {
  "kernelspec": {
   "display_name": "Python 3 (ipykernel)",
   "language": "python",
   "name": "python3"
  },
  "language_info": {
   "codemirror_mode": {
    "name": "ipython",
    "version": 3
   },
   "file_extension": ".py",
   "mimetype": "text/x-python",
   "name": "python",
   "nbconvert_exporter": "python",
   "pygments_lexer": "ipython3",
   "version": "3.11.5"
  }
 },
 "nbformat": 4,
 "nbformat_minor": 5
}
